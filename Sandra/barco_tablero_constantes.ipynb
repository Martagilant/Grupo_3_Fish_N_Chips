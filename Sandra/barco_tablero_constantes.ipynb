{
 "cells": [
  {
   "cell_type": "code",
   "execution_count": 11,
   "metadata": {},
   "outputs": [],
   "source": [
    "import numpy as np\n",
    "import random\n",
    "import Clase_Tablero_Hundir_La_flota as tablero\n",
    "from constantes import dict_barcos\n",
    "\n",
    "#creamos la clase barco  \n",
    "class Barco:\n",
    "    def __init__(self, eslora, tablero): #constructor de barco, con una longitud dada para colocarlo en el tablero #necesito TABLERO\n",
    "\n",
    "        self.eslora = eslora #longitud o posiciones del barco\n",
    "        self.posiciones = []  #lista con las coordenadas del barco\n",
    "        self.colocar_barco(tablero)  #para colorcarlo\n",
    "\n",
    "#comprueba si un barco peude ser colocado\n",
    "    def colocar_barco(self, tablero):\n",
    "            dimensiones = tablero.tamano  #tamaño del tablero que creo que puedoquitar\n",
    "            orientaciones = [\"N\",\"S\",\"E\",\"O\"]  #direcciones \n",
    "\n",
    "            while True: #bucle con while para buscar una posicion valida hasta encontrar una, no se detiene hasta que el barco esta colocado en una posicion correcta\n",
    "                # asignar fila columna y orientacion aleatoria\n",
    "                fila = random.randint(0,9) #fila aleatoria entre 0 y 9\n",
    "                columna = random.randint(0,9) #columna aleatoria entre 0 y 9\n",
    "                orientacion = random.choice(orientaciones) #elige N,S,E,O\n",
    "\n",
    "                # tengo que crear verificar_espacio para comprobar que el espacio es correcto, entonces IF es correcto, llamamos a posicionar_barco\n",
    "                if self.verificar_espacio(fila, columna, orientacion, tablero):\n",
    "                    self.posicionar(fila, columna, orientacion, tablero)  #Colocar el barco\n",
    "                    break  # salir cuando consiga colorcarlo\n",
    "\n",
    "\n",
    "    def verificar_espacio(self, fila, columna, orientacion, tablero):\n",
    "            #verificar si las coordenadas del barco no se salen del tablero y si no hay otros barcos\n",
    "            for i in range(self.eslora):\n",
    "                nueva_fila, nueva_columna = self.calcular_coordenadas(fila, columna, orientacion, i)\n",
    "\n",
    "                #commomprobar si la nueva posicion esta dentro del tablero\n",
    "                if nueva_fila < 0 or nueva_fila >= tablero.tamano or nueva_columna < 0 or nueva_columna >= tablero.tamano:\n",
    "                    return False  #si el barco se sale del tablero\n",
    "\n",
    "                #verificar si ya hay un barco en esa posicin\n",
    "                if tablero.tablero[nueva_fila][nueva_columna] == \"O\":\n",
    "                    return False  #si hay un barco en la posicion no se puede colocar\n",
    "\n",
    "            return True  #Si todo va bien, devuelve True\n",
    "\n",
    "    def calcular_coordenadas(self, fila, columna, orientacion, paso=1):\n",
    "        \n",
    "            #calcula la nueva posicion, tengo dudas\n",
    "            if orientacion == \"N\":\n",
    "                return fila - paso, columna  #subir\n",
    "            elif orientacion == \"S\":\n",
    "                return fila + paso, columna  #bajar\n",
    "            elif orientacion == \"E\":\n",
    "                return fila, columna + paso  #derechoa\n",
    "            elif orientacion == \"O\":\n",
    "                return fila, columna - paso  #izquierda\n",
    "            \n",
    "\n",
    "    def posicionar(self, fila, columna, orientacion, tablero):\n",
    "            #colcoa el barco en las coordenadas que se calculan\n",
    "            for i in range(self.eslora):\n",
    "                nueva_fila, nueva_columna = self.calcular_coordenadas(fila, columna, orientacion, i)\n",
    "                tablero.tablero[nueva_fila][nueva_columna] = \"O\" #marca la posición del barco con O\n",
    "                self.posiciones.append((nueva_fila, nueva_columna))  #guardar la posicion\n",
    "\n",
    "\n"
   ]
  },
  {
   "cell_type": "code",
   "execution_count": 12,
   "metadata": {},
   "outputs": [
    {
     "name": "stdout",
     "output_type": "stream",
     "text": [
      "[[' ' ' ' ' ' ' ' ' ' ' ' ' ' ' ' ' ' ' ']\n",
      " [' ' ' ' ' ' ' ' ' ' ' ' ' ' ' ' ' ' ' ']\n",
      " [' ' ' ' ' ' ' ' ' ' ' ' ' ' ' ' ' ' ' ']\n",
      " [' ' ' ' ' ' ' ' ' ' ' ' ' ' ' ' ' ' ' ']\n",
      " [' ' ' ' ' ' ' ' ' ' ' ' ' ' ' ' ' ' ' ']\n",
      " [' ' ' ' ' ' ' ' ' ' ' ' ' ' ' ' ' ' ' ']\n",
      " [' ' ' ' ' ' ' ' ' ' ' ' ' ' ' ' ' ' ' ']\n",
      " [' ' ' ' ' ' ' ' ' ' ' ' ' ' ' ' ' ' ' ']\n",
      " [' ' ' ' ' ' ' ' ' ' ' ' ' ' ' ' ' ' ' ']\n",
      " [' ' ' ' ' ' ' ' ' ' ' ' ' ' ' ' ' ' ' ']]\n"
     ]
    }
   ],
   "source": [
    "tablero_Jugador = tablero.Tablero(name=\"Jugador\", tamano=10, jugador_id=1, barcos=dict_barcos, impactos={})\n"
   ]
  },
  {
   "cell_type": "code",
   "execution_count": 13,
   "metadata": {},
   "outputs": [
    {
     "name": "stdout",
     "output_type": "stream",
     "text": [
      "Tablero Jugador:\n",
      "[[' ' ' ' ' ' ' ' ' ' ' ' ' ' ' ' ' ' ' ']\n",
      " [' ' ' ' ' ' ' ' ' ' ' ' ' ' ' ' ' ' ' ']\n",
      " [' ' ' ' ' ' ' ' ' ' ' ' ' ' ' ' ' ' ' ']\n",
      " [' ' ' ' 'O' ' ' 'O' ' ' ' ' ' ' ' ' ' ']\n",
      " [' ' ' ' ' ' ' ' 'O' 'O' 'O' 'O' ' ' ' ']\n",
      " [' ' ' ' ' ' ' ' 'O' 'O' ' ' 'O' ' ' ' ']\n",
      " [' ' ' ' 'O' 'O' ' ' ' ' ' ' 'O' ' ' ' ']\n",
      " [' ' ' ' 'O' 'O' 'O' 'O' ' ' ' ' ' ' ' ']\n",
      " [' ' ' ' 'O' ' ' ' ' 'O' ' ' ' ' ' ' ' ']\n",
      " [' ' ' ' 'O' 'O' ' ' ' ' ' ' ' ' ' ' ' ']]\n"
     ]
    }
   ],
   "source": [
    "for barco, eslora in dict_barcos.items():\n",
    "    barco = Barco(eslora, tablero_Jugador)\n",
    "\n",
    "print(\"Tablero Jugador:\")\n",
    "print(tablero_Jugador.tablero)"
   ]
  },
  {
   "cell_type": "code",
   "execution_count": 14,
   "metadata": {},
   "outputs": [
    {
     "name": "stdout",
     "output_type": "stream",
     "text": [
      "[[' ' ' ' ' ' ' ' ' ' ' ' ' ' ' ' ' ' ' ']\n",
      " [' ' ' ' ' ' ' ' ' ' ' ' ' ' ' ' ' ' ' ']\n",
      " [' ' ' ' ' ' ' ' ' ' ' ' ' ' ' ' ' ' ' ']\n",
      " [' ' ' ' ' ' ' ' ' ' ' ' ' ' ' ' ' ' ' ']\n",
      " [' ' ' ' ' ' ' ' ' ' ' ' ' ' ' ' ' ' ' ']\n",
      " [' ' ' ' ' ' ' ' ' ' ' ' ' ' ' ' ' ' ' ']\n",
      " [' ' ' ' ' ' ' ' ' ' ' ' ' ' ' ' ' ' ' ']\n",
      " [' ' ' ' ' ' ' ' ' ' ' ' ' ' ' ' ' ' ' ']\n",
      " [' ' ' ' ' ' ' ' ' ' ' ' ' ' ' ' ' ' ' ']\n",
      " [' ' ' ' ' ' ' ' ' ' ' ' ' ' ' ' ' ' ' ']]\n"
     ]
    }
   ],
   "source": [
    "tablero_Máquina = tablero.Tablero(name=\"Jugador\", tamano=10, jugador_id=2, barcos=dict_barcos, impactos={})"
   ]
  },
  {
   "cell_type": "code",
   "execution_count": 15,
   "metadata": {},
   "outputs": [
    {
     "name": "stdout",
     "output_type": "stream",
     "text": [
      "Tablero Máquina:\n",
      "[['O' ' ' ' ' ' ' ' ' ' ' ' ' ' ' ' ' ' ']\n",
      " ['O' ' ' ' ' 'O' ' ' ' ' ' ' ' ' ' ' ' ']\n",
      " ['O' ' ' ' ' ' ' ' ' ' ' 'O' 'O' 'O' ' ']\n",
      " [' ' ' ' ' ' ' ' ' ' ' ' ' ' 'O' 'O' ' ']\n",
      " [' ' ' ' ' ' ' ' ' ' 'O' 'O' 'O' ' ' ' ']\n",
      " [' ' ' ' ' ' ' ' ' ' ' ' ' ' ' ' ' ' ' ']\n",
      " [' ' ' ' 'O' ' ' 'O' ' ' ' ' ' ' ' ' 'O']\n",
      " ['O' ' ' 'O' ' ' 'O' ' ' ' ' ' ' ' ' ' ']\n",
      " [' ' ' ' ' ' ' ' 'O' ' ' ' ' ' ' ' ' ' ']\n",
      " [' ' ' ' ' ' ' ' 'O' ' ' ' ' ' ' ' ' ' ']]\n"
     ]
    }
   ],
   "source": [
    "for barco, eslora in dict_barcos.items():\n",
    "    barco = Barco(eslora, tablero_Máquina)\n",
    "\n",
    "print(\"Tablero Máquina:\")\n",
    "print(tablero_Máquina.tablero)"
   ]
  },
  {
   "cell_type": "code",
   "execution_count": null,
   "metadata": {},
   "outputs": [],
   "source": []
  },
  {
   "cell_type": "code",
   "execution_count": null,
   "metadata": {},
   "outputs": [],
   "source": []
  }
 ],
 "metadata": {
  "kernelspec": {
   "display_name": "Python 3",
   "language": "python",
   "name": "python3"
  },
  "language_info": {
   "codemirror_mode": {
    "name": "ipython",
    "version": 3
   },
   "file_extension": ".py",
   "mimetype": "text/x-python",
   "name": "python",
   "nbconvert_exporter": "python",
   "pygments_lexer": "ipython3",
   "version": "3.13.2"
  }
 },
 "nbformat": 4,
 "nbformat_minor": 2
}
